{
 "cells": [
  {
   "cell_type": "markdown",
   "id": "3aae5fe7",
   "metadata": {},
   "source": [
    "## First request (warmup)"
   ]
  },
  {
   "cell_type": "code",
   "execution_count": 4,
   "id": "064001ad",
   "metadata": {},
   "outputs": [
    {
     "name": "stdout",
     "output_type": "stream",
     "text": [
      "Request 1, batch size 1\n",
      "    0.826453 (505) = COFFEE MUG\n",
      "PASS\n",
      "\n",
      "elapsed_time: 8975.947907 (ms)\n"
     ]
    }
   ],
   "source": [
    "t0 = !date +%s%N\n",
    "\n",
    "!python3.6 \\\n",
    "            \"/home/ocistn3/victorlw_chen/image_client.py\" \\\n",
    "            -m inception_graphdef \\\n",
    "            -s INCEPTION \\\n",
    "            \"/home/ocistn3/victorlw_chen/images/mug.jpg\" -x 2 \\\n",
    "            -u localhost:9000\n",
    "\n",
    "t1 = !date +%s%N\n",
    "elapsed_time = int(t1[0]) - int(t0[0]) # ns\n",
    "print('\\nelapsed_time:', elapsed_time/1e6, '(ms)')"
   ]
  },
  {
   "cell_type": "markdown",
   "id": "55dc7ade",
   "metadata": {},
   "source": [
    "## show metrics"
   ]
  },
  {
   "cell_type": "code",
   "execution_count": 3,
   "id": "623a0494",
   "metadata": {},
   "outputs": [
    {
     "name": "stdout",
     "output_type": "stream",
     "text": [
      "  % Total    % Received % Xferd  Average Speed   Time    Time     Time  Current\r\n",
      "                                 Dload  Upload   Total   Spent    Left  Speed\r\n",
      "\r",
      "  0     0    0     0    0     0      0      0 --:--:-- --:--:-- --:--:--     0\r",
      "100  3532  100  3532    0     0   603k      0 --:--:-- --:--:-- --:--:--  689k\r\n",
      "nv_inference_request_success{gpu_uuid=\"GPU-f9dc5b48-214b-7431-8d67-f73f58eb3316\",model=\"inception_graphdef\",version=\"2\"} 0.000000\r\n",
      "nv_inference_request_failure{gpu_uuid=\"GPU-f9dc5b48-214b-7431-8d67-f73f58eb3316\",model=\"inception_graphdef\",version=\"2\"} 0.000000\r\n",
      "nv_inference_count{gpu_uuid=\"GPU-f9dc5b48-214b-7431-8d67-f73f58eb3316\",model=\"inception_graphdef\",version=\"2\"} 0.000000\r\n",
      "nv_inference_exec_count{gpu_uuid=\"GPU-f9dc5b48-214b-7431-8d67-f73f58eb3316\",model=\"inception_graphdef\",version=\"2\"} 0.000000\r\n",
      "nv_inference_request_duration_us{gpu_uuid=\"GPU-f9dc5b48-214b-7431-8d67-f73f58eb3316\",model=\"inception_graphdef\",version=\"2\"} 0.000000\r\n",
      "nv_inference_queue_duration_us{gpu_uuid=\"GPU-f9dc5b48-214b-7431-8d67-f73f58eb3316\",model=\"inception_graphdef\",version=\"2\"} 0.000000\r\n",
      "nv_inference_compute_input_duration_us{gpu_uuid=\"GPU-f9dc5b48-214b-7431-8d67-f73f58eb3316\",model=\"inception_graphdef\",version=\"2\"} 0.000000\r\n",
      "nv_inference_compute_infer_duration_us{gpu_uuid=\"GPU-f9dc5b48-214b-7431-8d67-f73f58eb3316\",model=\"inception_graphdef\",version=\"2\"} 0.000000\r\n",
      "nv_inference_compute_output_duration_us{gpu_uuid=\"GPU-f9dc5b48-214b-7431-8d67-f73f58eb3316\",model=\"inception_graphdef\",version=\"2\"} 0.000000\r\n"
     ]
    }
   ],
   "source": [
    "!curl localhost:9002/metrics | grep inception"
   ]
  },
  {
   "cell_type": "markdown",
   "id": "176d21af",
   "metadata": {},
   "source": [
    "## 1000 times requests"
   ]
  },
  {
   "cell_type": "code",
   "execution_count": 1,
   "id": "714413eb",
   "metadata": {},
   "outputs": [
    {
     "name": "stdout",
     "output_type": "stream",
     "text": [
      "2021-08-26 17:31:20.743575\n",
      "  % Total    % Received % Xferd  Average Speed   Time    Time     Time  Current\n",
      "                                 Dload  Upload   Total   Spent    Left  Speed\n",
      "100  3582  100  3582    0     0   601k      0 --:--:-- --:--:-- --:--:--  699k\n",
      "nv_inference_request_success{gpu_uuid=\"GPU-f9dc5b48-214b-7431-8d67-f73f58eb3316\",model=\"inception_graphdef\",version=\"2\"} 1001.000000\n",
      "nv_inference_request_failure{gpu_uuid=\"GPU-f9dc5b48-214b-7431-8d67-f73f58eb3316\",model=\"inception_graphdef\",version=\"2\"} 0.000000\n",
      "nv_inference_count{gpu_uuid=\"GPU-f9dc5b48-214b-7431-8d67-f73f58eb3316\",model=\"inception_graphdef\",version=\"2\"} 1001.000000\n",
      "nv_inference_exec_count{gpu_uuid=\"GPU-f9dc5b48-214b-7431-8d67-f73f58eb3316\",model=\"inception_graphdef\",version=\"2\"} 4.000000\n",
      "nv_inference_request_duration_us{gpu_uuid=\"GPU-f9dc5b48-214b-7431-8d67-f73f58eb3316\",model=\"inception_graphdef\",version=\"2\"} 38305999260.000000\n",
      "nv_inference_queue_duration_us{gpu_uuid=\"GPU-f9dc5b48-214b-7431-8d67-f73f58eb3316\",model=\"inception_graphdef\",version=\"2\"} 14075766683.000000\n",
      "nv_inference_compute_input_duration_us{gpu_uuid=\"GPU-f9dc5b48-214b-7431-8d67-f73f58eb3316\",model=\"inception_graphdef\",version=\"2\"} 989728981.000000\n",
      "nv_inference_compute_infer_duration_us{gpu_uuid=\"GPU-f9dc5b48-214b-7431-8d67-f73f58eb3316\",model=\"inception_graphdef\",version=\"2\"} 23090281926.000000\n",
      "nv_inference_compute_output_duration_us{gpu_uuid=\"GPU-f9dc5b48-214b-7431-8d67-f73f58eb3316\",model=\"inception_graphdef\",version=\"2\"} 5677998.000000\n",
      "------------------------------------------------------------\n",
      "0\n",
      "100\n",
      "200\n",
      "300\n",
      "400\n",
      "500\n",
      "600\n",
      "700\n",
      "800\n",
      "900\n",
      "------------------------------------------------------------\n",
      "2021-08-26 17:31:48.732952\n",
      "  % Total    % Received % Xferd  Average Speed   Time    Time     Time  Current\n",
      "                                 Dload  Upload   Total   Spent    Left  Speed\n",
      "100  3585  100  3585    0     0  79219      0 --:--:-- --:--:-- --:--:-- 79666\n",
      "nv_inference_request_success{gpu_uuid=\"GPU-f9dc5b48-214b-7431-8d67-f73f58eb3316\",model=\"inception_graphdef\",version=\"2\"} 1196.000000\n",
      "nv_inference_request_failure{gpu_uuid=\"GPU-f9dc5b48-214b-7431-8d67-f73f58eb3316\",model=\"inception_graphdef\",version=\"2\"} 0.000000\n",
      "nv_inference_count{gpu_uuid=\"GPU-f9dc5b48-214b-7431-8d67-f73f58eb3316\",model=\"inception_graphdef\",version=\"2\"} 1196.000000\n",
      "nv_inference_exec_count{gpu_uuid=\"GPU-f9dc5b48-214b-7431-8d67-f73f58eb3316\",model=\"inception_graphdef\",version=\"2\"} 5.000000\n",
      "nv_inference_request_duration_us{gpu_uuid=\"GPU-f9dc5b48-214b-7431-8d67-f73f58eb3316\",model=\"inception_graphdef\",version=\"2\"} 40666338801.000000\n",
      "nv_inference_queue_duration_us{gpu_uuid=\"GPU-f9dc5b48-214b-7431-8d67-f73f58eb3316\",model=\"inception_graphdef\",version=\"2\"} 14622662289.000000\n",
      "nv_inference_compute_input_duration_us{gpu_uuid=\"GPU-f9dc5b48-214b-7431-8d67-f73f58eb3316\",model=\"inception_graphdef\",version=\"2\"} 1035223066.000000\n",
      "nv_inference_compute_infer_duration_us{gpu_uuid=\"GPU-f9dc5b48-214b-7431-8d67-f73f58eb3316\",model=\"inception_graphdef\",version=\"2\"} 24851183211.000000\n",
      "nv_inference_compute_output_duration_us{gpu_uuid=\"GPU-f9dc5b48-214b-7431-8d67-f73f58eb3316\",model=\"inception_graphdef\",version=\"2\"} 6181098.000000\n",
      "------------------------------------------------------------\n",
      "elapsed time: 27.98937702178955\n"
     ]
    }
   ],
   "source": [
    "import os\n",
    "from datetime import datetime\n",
    "\n",
    "t0 = datetime.now()\n",
    "print(t0)\n",
    "!curl localhost:9002/metrics | grep inception\n",
    "print('-' * 60)\n",
    "\n",
    "times = 1000\n",
    "for i in range(times):\n",
    "    if i % 100 == 0: print(i)\n",
    "        \n",
    "    cmd = '''\n",
    "        python3.6 \\\n",
    "            \"image_client.py\" \\\n",
    "            -m inception_graphdef \\\n",
    "            -s INCEPTION \\\n",
    "            \"/home/ocistn3/victorlw_chen/images/mug.jpg\" -x 2 \\\n",
    "            -u localhost:9000 \\\n",
    "             2>&1 > /dev/null &\n",
    "        '''\n",
    "    os.system(cmd)\n",
    "\n",
    "print('-' * 60)\n",
    "t1 = datetime.now()\n",
    "print(t1)\n",
    "!curl localhost:9002/metrics | grep inception\n",
    "\n",
    "print('-' * 60)\n",
    "print('elapsed time:', t1.timestamp() - t0.timestamp())"
   ]
  }
 ],
 "metadata": {
  "kernelspec": {
   "display_name": "Python 3",
   "language": "python",
   "name": "python3"
  },
  "language_info": {
   "codemirror_mode": {
    "name": "ipython",
    "version": 3
   },
   "file_extension": ".py",
   "mimetype": "text/x-python",
   "name": "python",
   "nbconvert_exporter": "python",
   "pygments_lexer": "ipython3",
   "version": "3.6.12"
  }
 },
 "nbformat": 4,
 "nbformat_minor": 5
}
